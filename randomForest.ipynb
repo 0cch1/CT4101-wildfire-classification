{
 "cells": [
  {
   "cell_type": "markdown",
   "id": "0a399c6a",
   "metadata": {},
   "source": [
    "# Random Forest Explained"
   ]
  },
  {
   "cell_type": "markdown",
   "id": "ca85c167",
   "metadata": {},
   "source": [
    "\n",
    "This notebook mirrors the workflow from the logistic-regression analysis, but focuses on a RandomForestClassifier. We:\n",
    "\n",
    "* load the wildfire training/test CSV files and reuse the same preprocessing pipeline;\n",
    "* inspect the target distribution and a couple of feature relationships;\n",
    "* train a baseline random forest with default hyperparameters;\n",
    "* perform a manual sweep over `n_estimators` and `max_depth` to understand their impact;\n",
    "* review evaluation metrics (accuracy, classification report, confusion matrix) and visualise tuning results.\n"
   ]
  },
  {
   "cell_type": "code",
   "execution_count": null,
   "id": "aa57eabc",
   "metadata": {},
   "outputs": [],
   "source": [
    "\n",
    "from pathlib import Path\n",
    "\n",
    "import numpy as np\n",
    "import pandas as pd\n",
    "import matplotlib.pyplot as plt\n",
    "import seaborn as sns\n",
    "\n",
    "from sklearn.ensemble import RandomForestClassifier\n",
    "from sklearn.metrics import accuracy_score, classification_report, confusion_matrix\n",
    "from sklearn.preprocessing import StandardScaler\n",
    "\n",
    "plt.style.use('seaborn-v0_8')\n",
    "DATA_DIR = Path.cwd()\n",
    "TRAIN_PATH = DATA_DIR / 'wildfires_training.csv'\n",
    "TEST_PATH = DATA_DIR / 'wildfires_test.csv'\n",
    "RANDOM_STATE = 42\n"
   ]
  },
  {
   "cell_type": "code",
   "execution_count": null,
   "id": "a89cd49e",
   "metadata": {},
   "outputs": [],
   "source": [
    "\n",
    "train_df = pd.read_csv(TRAIN_PATH)\n",
    "test_df = pd.read_csv(TEST_PATH)\n",
    "print(f\"Train shape: {train_df.shape}, Test shape: {test_df.shape}\")\n",
    "train_df.head()\n"
   ]
  },
  {
   "cell_type": "code",
   "execution_count": null,
   "id": "1170f08d",
   "metadata": {},
   "outputs": [],
   "source": [
    "\n",
    "y_train = train_df['fire'].map({'yes': 1, 'no': 0}).astype(int)\n",
    "X_train = train_df.drop(columns='fire')\n",
    "y_test = test_df['fire'].map({'yes': 1, 'no': 0}).astype(int)\n",
    "X_test = test_df.drop(columns='fire')\n",
    "\n",
    "scaler = StandardScaler().fit(X_train)\n",
    "Xtr = scaler.transform(X_train)\n",
    "Xte = scaler.transform(X_test)\n",
    "\n",
    "print('Scaled feature shapes:', Xtr.shape, Xte.shape)\n",
    "print('Training class counts:')\n",
    "print(y_train.value_counts())\n"
   ]
  },
  {
   "cell_type": "code",
   "execution_count": null,
   "id": "14c0f787",
   "metadata": {},
   "outputs": [],
   "source": [
    "\n",
    "ax = y_train.value_counts().sort_index().plot(kind='bar', color=['tab:blue', 'tab:red'])\n",
    "ax.set_xticklabels(['no fire (0)', 'fire (1)'], rotation=0)\n",
    "ax.set_ylabel('Count')\n",
    "ax.set_title('Training class distribution')\n",
    "plt.show()\n"
   ]
  },
  {
   "cell_type": "code",
   "execution_count": null,
   "id": "576470f3",
   "metadata": {},
   "outputs": [],
   "source": [
    "\n",
    "plt.figure(figsize=(6, 4))\n",
    "sns.scatterplot(\n",
    "    data=train_df,\n",
    "    x='temp',\n",
    "    y='humidity',\n",
    "    hue=y_train,\n",
    "    palette={0: 'tab:blue', 1: 'tab:red'},\n",
    "    alpha=0.7,\n",
    ")\n",
    "plt.title('Temperature vs Humidity coloured by fire label')\n",
    "plt.show()\n"
   ]
  },
  {
   "cell_type": "markdown",
   "id": "3e229120",
   "metadata": {},
   "source": [
    "## Baseline Random Forest"
   ]
  },
  {
   "cell_type": "code",
   "execution_count": null,
   "id": "d39ad166",
   "metadata": {},
   "outputs": [],
   "source": [
    "\n",
    "baseline_rf = RandomForestClassifier(random_state=RANDOM_STATE, n_jobs=-1)\n",
    "baseline_rf.fit(X_train, y_train)\n",
    "\n",
    "train_pred = baseline_rf.predict(X_train)\n",
    "test_pred = baseline_rf.predict(X_test)\n",
    "print(f\"Train accuracy: {accuracy_score(y_train, train_pred):.4f}\")\n",
    "print(f\"Test accuracy : {accuracy_score(y_test, test_pred):.4f}\n",
    "\")\n",
    "print('Classification report (test set):')\n",
    "print(classification_report(y_test, test_pred))\n",
    "\n",
    "cm = confusion_matrix(y_test, test_pred)\n",
    "plt.figure(figsize=(4, 3))\n",
    "sns.heatmap(cm, annot=True, fmt='d', cmap='Blues')\n",
    "plt.xlabel('Predicted label')\n",
    "plt.ylabel('True label')\n",
    "plt.title('Confusion matrix (baseline RF)')\n",
    "plt.show()\n"
   ]
  },
  {
   "cell_type": "markdown",
   "id": "3c7820c2",
   "metadata": {},
   "source": [
    "## Manual hyperparameter sweep"
   ]
  },
  {
   "cell_type": "code",
   "execution_count": null,
   "id": "1c0ca626",
   "metadata": {},
   "outputs": [],
   "source": [
    "\n",
    "n_estimators_list = (50, 100, 200, 400)\n",
    "max_depth_list = (6, 8, 10)\n",
    "\n",
    "rows = []\n",
    "for depth in max_depth_list:\n",
    "    for n_estimators in n_estimators_list:\n",
    "        rf = RandomForestClassifier(\n",
    "            n_estimators=n_estimators,\n",
    "            max_depth=depth,\n",
    "            random_state=RANDOM_STATE,\n",
    "            n_jobs=-1,\n",
    "        )\n",
    "        rf.fit(X_train, y_train)\n",
    "        rows.append(\n",
    "            {\n",
    "                'max_depth': depth,\n",
    "                'n_estimators': n_estimators,\n",
    "                'train_acc': rf.score(X_train, y_train),\n",
    "                'test_acc': rf.score(X_test, y_test),\n",
    "            }\n",
    "        )\n",
    "\n",
    "rf_results = pd.DataFrame(rows).sort_values(['max_depth', 'n_estimators']).reset_index(drop=True)\n",
    "rf_results\n"
   ]
  },
  {
   "cell_type": "code",
   "execution_count": null,
   "id": "35cfa977",
   "metadata": {},
   "outputs": [],
   "source": [
    "\n",
    "best_rf = rf_results.loc[rf_results['test_acc'].idxmax()]\n",
    "print('Best configuration:')\n",
    "print(best_rf)\n"
   ]
  },
  {
   "cell_type": "code",
   "execution_count": null,
   "id": "0c2b315c",
   "metadata": {},
   "outputs": [],
   "source": [
    "\n",
    "plt.figure(figsize=(6, 4))\n",
    "for depth, group in rf_results.groupby('max_depth'):\n",
    "    group = group.sort_values('n_estimators')\n",
    "    plt.plot(group['n_estimators'], group['test_acc'], marker='o', label=f'max_depth={depth}')\n",
    "plt.xscale('log')\n",
    "plt.xlabel('n_estimators (log scale)')\n",
    "plt.ylabel('Test accuracy')\n",
    "plt.title('Random Forest test accuracy vs n_estimators')\n",
    "plt.grid(alpha=0.3)\n",
    "plt.legend()\n",
    "plt.tight_layout()\n",
    "plt.show()\n"
   ]
  },
  {
   "cell_type": "markdown",
   "id": "0d52f5ed",
   "metadata": {},
   "source": [
    "## Feature importance"
   ]
  },
  {
   "cell_type": "code",
   "execution_count": null,
   "id": "100116b7",
   "metadata": {},
   "outputs": [],
   "source": [
    "\n",
    "rf_best = RandomForestClassifier(\n",
    "    n_estimators=int(best_rf['n_estimators']),\n",
    "    max_depth=int(best_rf['max_depth']),\n",
    "    random_state=RANDOM_STATE,\n",
    "    n_jobs=-1,\n",
    ")\n",
    "rf_best.fit(X_train, y_train)\n",
    "importances = pd.Series(rf_best.feature_importances_, index=X_train.columns).sort_values(ascending=False)\n",
    "\n",
    "plt.figure(figsize=(6, 4))\n",
    "importances.plot(kind='bar')\n",
    "plt.ylabel('Importance')\n",
    "plt.title('Feature importances (best RF)')\n",
    "plt.tight_layout()\n",
    "plt.show()\n"
   ]
  },
  {
   "cell_type": "markdown",
   "id": "18be1055",
   "metadata": {},
   "source": [
    "\n",
    "### Summary\n",
    "\n",
    "* The baseline random forest perfectly fits the training data but leaves room on the test set, hinting at overfitting.\n",
    "* Constraining `max_depth` and adjusting `n_estimators` reveals a sweet spot (see table/plot) where test accuracy stabilises around 0.86.\n",
    "* Feature importances highlight which environmental variables contribute most to the fire/no-fire decision boundary.\n"
   ]
  }
 ],
 "metadata": {
  "kernelspec": {
   "display_name": "Python 3 (ipykernel)",
   "language": "python",
   "name": "python3"
  },
  "language_info": {
   "name": "python",
   "version": "3.11"
  }
 },
 "nbformat": 4,
 "nbformat_minor": 5
}
